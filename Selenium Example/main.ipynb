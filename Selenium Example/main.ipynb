{
 "cells": [
  {
   "cell_type": "code",
   "execution_count": 20,
   "metadata": {},
   "outputs": [],
   "source": [
    "# Opening a session and typing a keyword in the searchbar\n",
    "from selenium import webdriver\n",
    "from selenium.webdriver.common.keys import Keys\n",
    "from selenium.webdriver.common.by import By\n",
    "import time\n",
    "\n",
    "driver = webdriver.Safari()\n",
    "driver.get(\"http://www.python.org\")\n",
    "assert \"Python\" in driver.title\n",
    "elem = driver.find_element(By.NAME, \"q\")\n",
    "elem.clear()\n",
    "elem.send_keys(\"pycon\")\n",
    "elem.send_keys(Keys.RETURN)\n",
    "assert \"No results found.\" not in driver.page_source\n",
    "time.sleep(5)\n",
    "driver.close()"
   ]
  },
  {
   "cell_type": "code",
   "execution_count": 22,
   "metadata": {},
   "outputs": [],
   "source": [
    "# Clicking on an image in a page\n",
    "driver = webdriver.Safari()\n",
    "driver.get(\"https://en.wikipedia.org/wiki/Breaking_Bad\")\n",
    "# driver.execute_script('window.scrollTo(0,document.body.scrollHeight)') - scrolls down to the bottom of the page\n",
    "driver.maximize_window()\n",
    "element = driver.find_element(By.CLASS_NAME, 'infobox-image')\n",
    "time.sleep(2)\n",
    "element.click()\n",
    "time.sleep(5)\n",
    "driver.close()"
   ]
  },
  {
   "cell_type": "code",
   "execution_count": 31,
   "metadata": {},
   "outputs": [],
   "source": [
    "driver = webdriver.Safari()\n",
    "driver.get(\"https://en.wikipedia.org/wiki/Breaking_Bad\")\n",
    "element = driver.find_element(By.XPATH, \"//div[@class='hatnote navigation-not-searchable']/a[@title='List of Breaking Bad episodes']\")\n",
    "element.click()\n",
    "time.sleep(2)\n",
    "element2 = driver.find_element(By.XPATH, \"//td[@class='summary']/a[text()='Pilot']\")\n",
    "element2.click()\n",
    "time.sleep(5)\n",
    "driver.close()"
   ]
  },
  {
   "cell_type": "code",
   "execution_count": 5,
   "metadata": {},
   "outputs": [],
   "source": [
    "from selenium import webdriver\n",
    "from time import sleep\n",
    "from selenium.webdriver.common.by import By\n",
    "browser = webdriver.Chrome()\n",
    "browser.get('https://www.zomato.com/hyderabad/healthy-juice-center-abids')\n",
    "reviews_list = browser.find_elements(By.XPATH, \"//p[@class='sc-1hez2tp-0.sc-hkHFWD.fLEALF']\")\n",
    "reviews = []\n",
    "for country in reviews_list:\n",
    "    # get the text data\n",
    "    temp = country.text\n",
    "    reviews.append(temp)"
   ]
  },
  {
   "cell_type": "code",
   "execution_count": 4,
   "metadata": {},
   "outputs": [
    {
     "data": {
      "text/plain": [
       "[]"
      ]
     },
     "execution_count": 4,
     "metadata": {},
     "output_type": "execute_result"
    }
   ],
   "source": [
    "reviews_list"
   ]
  },
  {
   "cell_type": "code",
   "execution_count": 58,
   "metadata": {},
   "outputs": [],
   "source": [
    "import time\n",
    "browser = webdriver.Chrome()\n",
    "browser.get('https://www.zomato.com/hyderabad/healthy-juice-center-abids')\n",
    "element = browser.find_element(By.XPATH, \"/html/body/div[1]/div/main/div/article/div/section/section/div[2]/h2/a\")\n",
    "element.click()\n",
    "time.sleep(3)\n",
    "element_list = browser.find_elements(By.CLASS_NAME,\"sc-1hez2tp-0.sc-hkHFWD.fLEALF\")"
   ]
  },
  {
   "cell_type": "code",
   "execution_count": 59,
   "metadata": {},
   "outputs": [],
   "source": [
    "text_list = []\n",
    "for element in element_list:\n",
    "    text_list.append(element.text)"
   ]
  },
  {
   "cell_type": "code",
   "execution_count": 60,
   "metadata": {},
   "outputs": [
    {
     "data": {
      "text/plain": [
       "['',\n",
       " 'Visited this place a couple days before with my husband and my brother. We ordered Chiku Juice, Chocolate shake and Anar juice. Anar was a bit bitter probably due to the presence of seeds. Nonetheless, it was tasty. Chocolate shake and Chiku juice were the highlight and were simply amazing. Would love to visit the place again.',\n",
       " 'Strawberry 🍓\\n\\nThis is a dedicated Juice only center and it lives up to by the name it has.. Totally hygienic and a variety of juices, milkshakes, ice cream and ice golas to offer\\n\\nTried for the Strawberry juice and it was great.. No sugar added 8-)',\n",
       " 'Healthy juice center is near bogulgunta cross roads..this area is an hub for veg delicasies be it chats ,juices ;pizzas, ice creams or south indian food..\\n\\nJust a casual visit here and found this place very good in terms of ambience and cleanliness..\\n\\nChoose to have ...\\nLitchee punch...vanilla ice cream blended with litchee fruit was an passable thing for unknown reasons there was ice particles in the shake which i found it to be odd...\\n\\nSeethaphal juice...perfect in taste and absolutely excellent...\\n\\nOverall a nice and decent place for you juice cravings....',\n",
       " \"Healthy juice centre - not sure how much it stands by its name. Located at bogulkunta cross roads of abids , this place is in between many small food courts. We had mango juice and mixed fruit juice. While mango was good , mixed fruit juice was more of grape and less of other fruits which made it very sour. Haven't seen any special health drinks which we won't be finding in a normal juice store.\"]"
      ]
     },
     "execution_count": 60,
     "metadata": {},
     "output_type": "execute_result"
    }
   ],
   "source": [
    "text_list"
   ]
  },
  {
   "cell_type": "code",
   "execution_count": null,
   "metadata": {},
   "outputs": [],
   "source": []
  }
 ],
 "metadata": {
  "kernelspec": {
   "display_name": "miniScrapers",
   "language": "python",
   "name": "python3"
  },
  "language_info": {
   "codemirror_mode": {
    "name": "ipython",
    "version": 3
   },
   "file_extension": ".py",
   "mimetype": "text/x-python",
   "name": "python",
   "nbconvert_exporter": "python",
   "pygments_lexer": "ipython3",
   "version": "3.11.5"
  },
  "orig_nbformat": 4
 },
 "nbformat": 4,
 "nbformat_minor": 2
}
