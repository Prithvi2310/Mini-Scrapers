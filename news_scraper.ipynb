{
 "cells": [
  {
   "cell_type": "code",
   "execution_count": 1,
   "metadata": {},
   "outputs": [],
   "source": [
    "import urllib.request \n",
    "from bs4 import BeautifulSoup"
   ]
  },
  {
   "cell_type": "code",
   "execution_count": null,
   "metadata": {},
   "outputs": [],
   "source": [
    "#Create a class which takes website as parameter \n",
    "class Scrapper:\n",
    "    def __init__(self,site):\n",
    "        self.site = site\n",
    "\n",
    "    #A class method to be called whenever data needs to be scrapped from a website\n",
    "    def scrape(self):\n",
    "        req = urllib.request.urlopen(self.site)\n",
    "        html = req.read()\n",
    "        #Create a BeautifulSoup object and pass parser and html object as parameters\n",
    "        parser = \"html.parser\"\n",
    "        soup = BeautifulSoup(html,parser)\n",
    "        "
   ]
  }
 ],
 "metadata": {
  "kernelspec": {
   "display_name": "py39-TF2.0",
   "language": "python",
   "name": "python3"
  },
  "language_info": {
   "codemirror_mode": {
    "name": "ipython",
    "version": 3
   },
   "file_extension": ".py",
   "mimetype": "text/x-python",
   "name": "python",
   "nbconvert_exporter": "python",
   "pygments_lexer": "ipython3",
   "version": "3.9.16"
  },
  "orig_nbformat": 4
 },
 "nbformat": 4,
 "nbformat_minor": 2
}
